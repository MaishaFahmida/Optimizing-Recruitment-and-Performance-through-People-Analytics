{
 "cells": [
  {
   "cell_type": "code",
   "execution_count": 1,
   "id": "afed864f",
   "metadata": {},
   "outputs": [
    {
     "name": "stdout",
     "output_type": "stream",
     "text": [
      "   Shift  Max_Demand  Conductors  Wage_Rate   Cost\n",
      "0      1        91.0          10       60.0  600.0\n",
      "1      2        46.0           5       45.0  225.0\n",
      "2      3        42.0           5       45.0  225.0\n",
      "3      4         8.0           1       70.0   70.0\n",
      "\n",
      "Total Daily Wage Cost: €1120.0\n"
     ]
    }
   ],
   "source": [
    "import pandas as pd\n",
    "import math\n",
    "\n",
    "\n",
    "df = pd.read_csv(r'C:\\Users\\Maisha Fahmida\\Desktop\\PA\\CSV file\\fau_staffing_conductors.csv')\n",
    "\n",
    "\n",
    "passenger_df = df.iloc[:-1].copy()\n",
    "passenger_df['Avg_Passenger_Number'] = passenger_df['Avg_Passenger_Number'].astype(float)\n",
    "wage_row = df.iloc[-1]\n",
    "wage_rates = {i: float(wage_row[f'Shift {i}']) for i in range(1,5)}\n",
    "\n",
    "\n",
    "results = []\n",
    "for i in range(1,5):\n",
    "    shift_label = f'Shift {i}'\n",
    "    subset = passenger_df[passenger_df[shift_label] == 'X']\n",
    "    max_demand = subset['Avg_Passenger_Number'].max()\n",
    "    conductors = math.ceil(max_demand / 10)\n",
    "    cost = conductors * wage_rates[i]\n",
    "    results.append({'Shift': i, 'Max_Demand': max_demand, 'Conductors': conductors, 'Wage_Rate': wage_rates[i], 'Cost': cost})\n",
    "results_df = pd.DataFrame(results)\n",
    "print(results_df)\n",
    "total_cost = results_df['Cost'].sum()\n",
    "print(f\"\\nTotal Daily Wage Cost: €{total_cost}\")"
   ]
  },
  {
   "cell_type": "code",
   "execution_count": null,
   "id": "ff8bb1ba-51c0-4105-afef-af0ccbc0c8ec",
   "metadata": {},
   "outputs": [],
   "source": []
  }
 ],
 "metadata": {
  "kernelspec": {
   "display_name": "Python 3 (ipykernel)",
   "language": "python",
   "name": "python3"
  },
  "language_info": {
   "codemirror_mode": {
    "name": "ipython",
    "version": 3
   },
   "file_extension": ".py",
   "mimetype": "text/x-python",
   "name": "python",
   "nbconvert_exporter": "python",
   "pygments_lexer": "ipython3",
   "version": "3.12.4"
  }
 },
 "nbformat": 4,
 "nbformat_minor": 5
}
