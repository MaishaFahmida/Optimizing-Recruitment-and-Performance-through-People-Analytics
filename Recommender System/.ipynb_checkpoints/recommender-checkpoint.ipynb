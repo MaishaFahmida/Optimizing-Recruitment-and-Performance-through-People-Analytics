{
 "cells": [
  {
   "cell_type": "code",
   "execution_count": 1,
   "id": "5632abf3",
   "metadata": {},
   "outputs": [],
   "source": [
    "import pandas as pd\n",
    "from sklearn.feature_extraction.text import TfidfVectorizer\n",
    "from sklearn.metrics.pairwise import linear_kernel\n",
    "\n",
    "\n",
    "df = pd.read_csv(r'C:\\Users\\Maisha Fahmida\\Desktop\\PA\\CSV file\\fau_transline_recommender.csv')"
   ]
  },
  {
   "cell_type": "code",
   "execution_count": 3,
   "id": "54e67dba",
   "metadata": {},
   "outputs": [],
   "source": [
    "\n",
    "df['soup'] = (\n",
    "    df['teams'] + ' ' +\n",
    "    df['previous_experience'] + ' ' +\n",
    "    df['hobbies'] + ' ' +\n",
    "    df['sports'] + ' ' +\n",
    "    df['personality_traits']\n",
    ")"
   ]
  },
  {
   "cell_type": "code",
   "execution_count": 5,
   "id": "db97305f",
   "metadata": {},
   "outputs": [],
   "source": [
    "\n",
    "tfidf = TfidfVectorizer(stop_words='english')\n",
    "tfidf_matrix = tfidf.fit_transform(df['soup'])\n",
    "cosine_sim = linear_kernel(tfidf_matrix, tfidf_matrix)"
   ]
  },
  {
   "cell_type": "code",
   "execution_count": 7,
   "id": "4facb822",
   "metadata": {},
   "outputs": [],
   "source": [
    "\n",
    "indices = pd.Series(df.index, index=df['id']).drop_duplicates()"
   ]
  },
  {
   "cell_type": "code",
   "execution_count": 9,
   "id": "4e0c0db1",
   "metadata": {},
   "outputs": [],
   "source": [
    "\n",
    "def get_recommendations(emp_id, cosine_sim=cosine_sim):\n",
    "    idx = indices[emp_id]\n",
    "    sim_scores = list(enumerate(cosine_sim[idx]))\n",
    "    sim_scores = sorted(sim_scores, key=lambda x: x[1], reverse=True)[1:4]\n",
    "    emp_indices = [i[0] for i in sim_scores]\n",
    "    return df.iloc[emp_indices][['id', 'teams', 'previous_experience', 'hobbies', 'sports', 'personality_traits']]"
   ]
  },
  {
   "cell_type": "code",
   "execution_count": 21,
   "id": "4faec0d7",
   "metadata": {},
   "outputs": [
    {
     "data": {
      "text/html": [
       "<div>\n",
       "<style scoped>\n",
       "    .dataframe tbody tr th:only-of-type {\n",
       "        vertical-align: middle;\n",
       "    }\n",
       "\n",
       "    .dataframe tbody tr th {\n",
       "        vertical-align: top;\n",
       "    }\n",
       "\n",
       "    .dataframe thead th {\n",
       "        text-align: right;\n",
       "    }\n",
       "</style>\n",
       "<table border=\"1\" class=\"dataframe\">\n",
       "  <thead>\n",
       "    <tr style=\"text-align: right;\">\n",
       "      <th></th>\n",
       "      <th>id</th>\n",
       "      <th>teams</th>\n",
       "      <th>previous_experience</th>\n",
       "      <th>hobbies</th>\n",
       "      <th>sports</th>\n",
       "      <th>personality_traits</th>\n",
       "    </tr>\n",
       "  </thead>\n",
       "  <tbody>\n",
       "    <tr>\n",
       "      <th>41</th>\n",
       "      <td>emma_042</td>\n",
       "      <td>team_03</td>\n",
       "      <td>Advanced beginner</td>\n",
       "      <td>walking, journaling, listening to podcasts</td>\n",
       "      <td>table tennis</td>\n",
       "      <td>empathetic,innovator</td>\n",
       "    </tr>\n",
       "    <tr>\n",
       "      <th>48</th>\n",
       "      <td>christian_049</td>\n",
       "      <td>team_03</td>\n",
       "      <td>Competent</td>\n",
       "      <td>listening to podcasts, journaling, puzzle-solving</td>\n",
       "      <td>table tennis</td>\n",
       "      <td>cooperative,empathetic</td>\n",
       "    </tr>\n",
       "    <tr>\n",
       "      <th>0</th>\n",
       "      <td>simon_001</td>\n",
       "      <td>team_02</td>\n",
       "      <td>Expert</td>\n",
       "      <td>reading maps, walking, listening to podcasts</td>\n",
       "      <td>table tennis</td>\n",
       "      <td>curious,energetic</td>\n",
       "    </tr>\n",
       "  </tbody>\n",
       "</table>\n",
       "</div>"
      ],
      "text/plain": [
       "               id    teams previous_experience  \\\n",
       "41       emma_042  team_03   Advanced beginner   \n",
       "48  christian_049  team_03           Competent   \n",
       "0       simon_001  team_02              Expert   \n",
       "\n",
       "                                              hobbies        sports  \\\n",
       "41         walking, journaling, listening to podcasts  table tennis   \n",
       "48  listening to podcasts, journaling, puzzle-solving  table tennis   \n",
       "0        reading maps, walking, listening to podcasts  table tennis   \n",
       "\n",
       "        personality_traits  \n",
       "41    empathetic,innovator  \n",
       "48  cooperative,empathetic  \n",
       "0        curious,energetic  "
      ]
     },
     "execution_count": 21,
     "metadata": {},
     "output_type": "execute_result"
    }
   ],
   "source": [
    "\n",
    "recommendations = get_recommendations('klara_007')\n",
    "recommendations"
   ]
  },
  {
   "cell_type": "code",
   "execution_count": null,
   "id": "800459e9-3bdd-4341-b561-d5ef18f7a2a2",
   "metadata": {},
   "outputs": [],
   "source": []
  }
 ],
 "metadata": {
  "kernelspec": {
   "display_name": "Python 3 (ipykernel)",
   "language": "python",
   "name": "python3"
  },
  "language_info": {
   "codemirror_mode": {
    "name": "ipython",
    "version": 3
   },
   "file_extension": ".py",
   "mimetype": "text/x-python",
   "name": "python",
   "nbconvert_exporter": "python",
   "pygments_lexer": "ipython3",
   "version": "3.12.4"
  }
 },
 "nbformat": 4,
 "nbformat_minor": 5
}
